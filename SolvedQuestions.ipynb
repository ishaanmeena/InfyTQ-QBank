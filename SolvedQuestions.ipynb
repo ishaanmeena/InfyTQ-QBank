{
 "cells": [
  {
   "cell_type": "markdown",
   "metadata": {},
   "source": [
    "# Question 1"
   ]
  },
  {
   "cell_type": "markdown",
   "metadata": {},
   "source": [
    "Input will be given like 4365188\n",
    "\n",
    "Example : separate odd place Integers :: 3,5,8\n",
    "\n",
    "You have to return a 4 digit OTP by squaring the digits.\n",
    "\n",
    "Digits from above example is 3,5,8\n",
    "\n",
    "Square of those numbers is 9,25,64\n",
    "\n",
    "So the otp to be returned is first four digits 9256"
   ]
  },
  {
   "cell_type": "code",
   "execution_count": 21,
   "metadata": {},
   "outputs": [
    {
     "name": "stdout",
     "output_type": "stream",
     "text": [
      "Input the Integer value : 4365188\n",
      "OTP is 9256\n"
     ]
    }
   ],
   "source": [
    "value = input(\"Input the Integer value : \")\n",
    "odd = list()\n",
    "final = ''\n",
    "for i in range(1,len(value),2):\n",
    "    odd.append(int(value[i])**2)\n",
    "for value in odd:\n",
    "    final = final + str(value)\n",
    "print(\"OTP is {}\".format(final[:4]))"
   ]
  },
  {
   "cell_type": "markdown",
   "metadata": {},
   "source": [
    "# Question 2"
   ]
  },
  {
   "cell_type": "markdown",
   "metadata": {},
   "source": [
    "Take a string as an input. Separate all the integers from it. \n",
    "\n",
    "Then take each integer only once and form the largest even number possible.\n",
    "\n",
    "Print the largest possible even number. \n",
    "\n",
    "And if even number can’t be made, then print 0.\n",
    "\n",
    "Consider 0 as even number.\n",
    "\n",
    "Sample Input:\n",
    "QWert@821142\n",
    "sample output:\n",
    "8412\n",
    "\n",
    "explanation: - integers present are 8,2,1,1,4,2. Distinct integers are 8214, therefore largest possible even number is 8412\n",
    "\n",
    "Example1\n",
    "\n",
    "Input String = Infytq@218412\n",
    "\n",
    "Intermediate step (List of numbers *//redundancy removed*) = [2,1,8,4]\n",
    "\n",
    "Output Number = 8412\n",
    "\n",
    "Example2\n",
    "\n",
    "Input String = someString&337\n",
    "\n",
    "Intermediate step (List of numbers *//redundancy removed*) = [3,7]\n",
    "\n",
    "Output Number = -1"
   ]
  },
  {
   "cell_type": "code",
   "execution_count": 37,
   "metadata": {
    "scrolled": true
   },
   "outputs": [
    {
     "name": "stdout",
     "output_type": "stream",
     "text": [
      "Enter the string : QWert@821142\n",
      "8412\n"
     ]
    }
   ],
   "source": [
    "def driver(string):\n",
    "    number = list()\n",
    "    even = list()\n",
    "    finalString = ''\n",
    "    for char in string:\n",
    "        if char.isnumeric():\n",
    "            number.append(int(char))\n",
    "    number = sorted(set(number))\n",
    "    for value in number:\n",
    "        if value%2 == 0:\n",
    "            even.append(value)\n",
    "\n",
    "    if len(even) == 0:\n",
    "        return -1\n",
    "    else:\n",
    "        lastValue = min(even)\n",
    "        number.remove(lastValue)\n",
    "        number = number[::-1]\n",
    "        number.append(lastValue)\n",
    "        for digit in number:\n",
    "            finalString += str(digit)\n",
    "        return finalString\n",
    "\n",
    "string = input(\"Enter the string : \")\n",
    "print(driver(string))"
   ]
  },
  {
   "cell_type": "markdown",
   "metadata": {},
   "source": [
    "# Question 3"
   ]
  },
  {
   "cell_type": "markdown",
   "metadata": {},
   "source": [
    "For a given list of numbers, find its factors and add the factors. \n",
    "\n",
    "Then if the sum of factors is present in the original list, sort it and print it.\n",
    "\n",
    "Example:\n",
    "\n",
    "Input: 0,1,6\n",
    "\n",
    "Factors of 0 = 0. Thus sum = 0\n",
    "\n",
    "Factors of 1 = 1. Thus sum = 1\n",
    "\n",
    "Factors of 6 = 1,2,3. Thus sum = 6\n",
    "\n",
    "Output = 1,6\n",
    "\n",
    "If the sum numbers are not present in original list, then return -1.\n"
   ]
  },
  {
   "cell_type": "code",
   "execution_count": 9,
   "metadata": {
    "scrolled": true
   },
   "outputs": [
    {
     "name": "stdout",
     "output_type": "stream",
     "text": [
      "Enter the numbers0,1,6\n",
      "1,6\n"
     ]
    }
   ],
   "source": [
    "def findFactors(n):\n",
    "    factors = list()\n",
    "    if n == 0:\n",
    "        return [0]\n",
    "    elif n==1:\n",
    "        return [1]\n",
    "    else:\n",
    "        for i in range(1,n):\n",
    "            if n % i == 0:\n",
    "                factors.append(i)\n",
    "        return factors\n",
    "    \n",
    "def driver(number):\n",
    "    sumList = list()\n",
    "    finalString = list()\n",
    "    for each in number:\n",
    "        sumOfList = sum(findFactors(int(each)))\n",
    "        if sumOfList not in [0]:\n",
    "            finalString.append(str(sumOfList))\n",
    "    return ','.join(finalString)\n",
    "\n",
    "number = input(\"Enter the numbers\").split(',')\n",
    "\n",
    "print(driver(number))"
   ]
  },
  {
   "cell_type": "markdown",
   "metadata": {},
   "source": [
    "# Question 4"
   ]
  },
  {
   "cell_type": "markdown",
   "metadata": {},
   "source": [
    "Input - A string of numbers\n",
    "\n",
    "Output - Check if the number is palindrome.\n",
    "\n",
    "If it is, print it's length.\n",
    "\n",
    "If not, ( get the reverse of the string, add it to the original string, and check again). \n",
    "\n",
    "Repeat until a palindrome is generated.\n",
    "\n",
    "Example Test cases -\n",
    "\n",
    "1. Input - 145, Output - 3. #145 is not palindrome. \n",
    "\n",
    "   Add 145+541=686, which is a palindrome. \n",
    "\n",
    "   Hence print it's length, 3\n",
    "   \n",
    "\n",
    "2. Input - 4, Output - 1. # 4 is a palindrome.\n"
   ]
  },
  {
   "cell_type": "code",
   "execution_count": 20,
   "metadata": {},
   "outputs": [
    {
     "name": "stdout",
     "output_type": "stream",
     "text": [
      "Enter the number145\n",
      "3\n"
     ]
    }
   ],
   "source": [
    "n = input(\"Enter the number\")\n",
    "\n",
    "def driver(n):\n",
    "    n = str(n)\n",
    "    if n == n[::-1]:\n",
    "        return(len(n))\n",
    "    else:\n",
    "        rev = int(n[::-1])\n",
    "        n = int(n) + rev\n",
    "        return driver(n)\n",
    "\n",
    "print(driver(n))"
   ]
  },
  {
   "cell_type": "markdown",
   "metadata": {},
   "source": [
    "# Question 5"
   ]
  },
  {
   "cell_type": "markdown",
   "metadata": {},
   "source": [
    "A string will be given combination of letters and special characters. \n",
    "\n",
    "You have to return a reversed string keeping the special characters at the same place\n",
    "\n",
    "\n",
    "Example : sd&hg#j\n",
    "\n",
    "\n",
    "Answer to be returned is : jg&hd#s\n"
   ]
  },
  {
   "cell_type": "code",
   "execution_count": 128,
   "metadata": {},
   "outputs": [
    {
     "name": "stdout",
     "output_type": "stream",
     "text": [
      "Enter the string : kk\n",
      "kk\n"
     ]
    }
   ],
   "source": [
    "def driver(string):\n",
    "    s = ''\n",
    "    special = list()\n",
    "    clist = list()\n",
    "    for char in string:\n",
    "        if not char.isalnum():\n",
    "            special.append(char)\n",
    "        else:\n",
    "            clist.append(char)\n",
    "    l = len(string)\n",
    "    for i in range(0,l):\n",
    "        if(string[i].isalpha()):\n",
    "            s+=clist.pop()\n",
    "        else:\n",
    "            s+=special.pop(0)\n",
    "\n",
    "    return s\n",
    "\n",
    "string = input(\"Enter the string : \")\n",
    "print(driver(string))"
   ]
  },
  {
   "cell_type": "markdown",
   "metadata": {},
   "source": [
    "# Question 6"
   ]
  },
  {
   "cell_type": "markdown",
   "metadata": {},
   "source": [
    "Input - Non empty string containing only these characters - (,),[,],{,}\n",
    "\n",
    "Output - Check if the string is properly nested. If yes print '0'.\n",
    "\n",
    "If not, -- If it is found before completely traversing the string, print the index at which it is wrong.\n",
    "\n",
    "-- If it is found after completely traversing the string, print the 'string length+1'\n",
    "\n",
    "Important Note - String index starts from 1.\n",
    "\n",
    "Example test cases -\n",
    "\n",
    "1. Input - {[()]{}} Output - 0 #As the string is properly nested, we print '0'\n",
    "\n",
    "2. Input - {[}() Output - 3 #At index 3 we encounter '}' but it fails the condition, #hence the index is printed.\n",
    "\n"
   ]
  },
  {
   "cell_type": "code",
   "execution_count": 126,
   "metadata": {},
   "outputs": [
    {
     "name": "stdout",
     "output_type": "stream",
     "text": [
      "Enter the string : ((((()))))\n",
      "True\n"
     ]
    }
   ],
   "source": [
    "def swap(b1):\n",
    "    if b1 == '(':\n",
    "        return ')'\n",
    "    elif b1 == '[':\n",
    "        return ']'\n",
    "    elif b1 == '{':\n",
    "        return '}'\n",
    "\n",
    "def driver(string):\n",
    "    stack = list()\n",
    "    o = ['(','[','{']\n",
    "    c = [')',']','}']\n",
    "    balanced : True\n",
    "    index = 0\n",
    "    for brace in string:\n",
    "        index += 1\n",
    "        if brace in o:\n",
    "            stack.append(brace)\n",
    "        elif brace in c:\n",
    "            if len(stack) == 0:\n",
    "                balanced = False\n",
    "                break\n",
    "            else:\n",
    "                j = swap(stack.pop())\n",
    "                if j == brace:\n",
    "                    balanced = True\n",
    "                else:\n",
    "                    balanced = False\n",
    "                    break\n",
    "    if balanced == False:\n",
    "        return index\n",
    "    else:\n",
    "        return balanced\n",
    "\n",
    "string = input(\"Enter the string : \")\n",
    "print(driver(string))"
   ]
  },
  {
   "cell_type": "markdown",
   "metadata": {},
   "source": [
    "# Question 7"
   ]
  },
  {
   "cell_type": "markdown",
   "metadata": {},
   "source": [
    "Given input of array of string in format <employee name>:<employee number> separated by comas. \n",
    "    \n",
    "Employee name should contain only alphabets and employee number should contain only number.\n",
    "\n",
    "You have to generate password. For example, you give input\n",
    "\n",
    "Robert:36787, Tina:68721, Jo:56389\n",
    "\n",
    "Output: tiX\n",
    "\n",
    "Condition: Length of robert is 6 and 6 is present in employee number of robert(36787), \n",
    "\n",
    "so return the alphabet at position 6 that is t.\n",
    "\n",
    "\n",
    "Now, length of Tina is 4 and 4 is not present in 68721,\n",
    "\n",
    "so select the number which is maximum and less than length of Tina so select 2, \n",
    "\n",
    "return the alphabet that is at position 2, return i.\n",
    "\n",
    "\n",
    "Now length of Jo is 2 and it is not in 56389, \n",
    "\n",
    "and there is not any number which is less than 2, so return \"X\".\n"
   ]
  },
  {
   "cell_type": "code",
   "execution_count": 41,
   "metadata": {},
   "outputs": [
    {
     "name": "stdout",
     "output_type": "stream",
     "text": [
      "Enter the details : Robert:36787, Tina:68721, Jo:56389\n",
      "t\n",
      "i\n",
      "X\n"
     ]
    }
   ],
   "source": [
    "def inter(number, l):\n",
    "    m = min(number)\n",
    "    x = False\n",
    "    for i in range(int(m),int(l)):\n",
    "        if str(i) in str(number):\n",
    "            x = i\n",
    "    return x\n",
    "\n",
    "def check(name, number):\n",
    "    l = len(name)\n",
    "    if str(l) in str(number):\n",
    "        return name[l-1]\n",
    "    elif str(l) not in str(number):\n",
    "        index = inter(number, l)\n",
    "        if str(index) in str(number):\n",
    "            return name[index-1]\n",
    "        else:\n",
    "            return 'X'\n",
    "\n",
    "name = input(\"Enter the details : \").split(',')\n",
    "\n",
    "mname = list()\n",
    "names = list()\n",
    "numbers = list()\n",
    "\n",
    "for each in name:\n",
    "    mname.append(each.strip(' '))\n",
    "for each in mname:\n",
    "    seprator = each.split(':')\n",
    "    names.append(seprator[0])\n",
    "    numbers.append(seprator[1])\n",
    "\n",
    "zipped = list(zip(names,numbers))\n",
    "\n",
    "for each in zipped:\n",
    "    print(check(each[0], each[1]))"
   ]
  },
  {
   "cell_type": "code",
   "execution_count": null,
   "metadata": {},
   "outputs": [],
   "source": []
  },
  {
   "cell_type": "code",
   "execution_count": 191,
   "metadata": {},
   "outputs": [],
   "source": []
  },
  {
   "cell_type": "code",
   "execution_count": null,
   "metadata": {},
   "outputs": [],
   "source": []
  },
  {
   "cell_type": "code",
   "execution_count": null,
   "metadata": {},
   "outputs": [],
   "source": []
  }
 ],
 "metadata": {
  "kernelspec": {
   "display_name": "Python 3",
   "language": "python",
   "name": "python3"
  },
  "language_info": {
   "codemirror_mode": {
    "name": "ipython",
    "version": 3
   },
   "file_extension": ".py",
   "mimetype": "text/x-python",
   "name": "python",
   "nbconvert_exporter": "python",
   "pygments_lexer": "ipython3",
   "version": "3.7.3"
  }
 },
 "nbformat": 4,
 "nbformat_minor": 2
}
